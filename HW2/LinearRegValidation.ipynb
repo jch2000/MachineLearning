{
 "cells": [
  {
   "cell_type": "code",
   "execution_count": 1,
   "id": "53b0f838",
   "metadata": {},
   "outputs": [],
   "source": [
    "# 5-fold cross validation on linear regression model of COVID data\n",
    "# Justin Heyer"
   ]
  },
  {
   "cell_type": "code",
   "execution_count": 2,
   "id": "62a504de",
   "metadata": {},
   "outputs": [],
   "source": [
    "import pandas as pd\n",
    "import numpy as np\n",
    "from sklearn.linear_model import LinearRegression\n",
    "from sklearn.model_selection import KFold\n",
    "from sklearn.model_selection import cross_val_score"
   ]
  },
  {
   "cell_type": "code",
   "execution_count": 14,
   "id": "73560e91",
   "metadata": {},
   "outputs": [
    {
     "data": {
      "text/html": [
       "<div>\n",
       "<style scoped>\n",
       "    .dataframe tbody tr th:only-of-type {\n",
       "        vertical-align: middle;\n",
       "    }\n",
       "\n",
       "    .dataframe tbody tr th {\n",
       "        vertical-align: top;\n",
       "    }\n",
       "\n",
       "    .dataframe thead th {\n",
       "        text-align: right;\n",
       "    }\n",
       "</style>\n",
       "<table border=\"1\" class=\"dataframe\">\n",
       "  <thead>\n",
       "    <tr style=\"text-align: right;\">\n",
       "      <th></th>\n",
       "      <th>DEATHS/100K POP.</th>\n",
       "      <th>PERSONS OVER AGE 65 IN POP.</th>\n",
       "      <th>HOSPITAL BEDS/1,000 PEOPLE</th>\n",
       "    </tr>\n",
       "    <tr>\n",
       "      <th>COUNTRY</th>\n",
       "      <th></th>\n",
       "      <th></th>\n",
       "      <th></th>\n",
       "    </tr>\n",
       "  </thead>\n",
       "  <tbody>\n",
       "    <tr>\n",
       "      <th>Afghanistan</th>\n",
       "      <td>20.04</td>\n",
       "      <td>0.02680</td>\n",
       "      <td>0.4</td>\n",
       "    </tr>\n",
       "    <tr>\n",
       "      <th>Albania</th>\n",
       "      <td>124.71</td>\n",
       "      <td>0.13030</td>\n",
       "      <td>2.9</td>\n",
       "    </tr>\n",
       "    <tr>\n",
       "      <th>Algeria</th>\n",
       "      <td>15.69</td>\n",
       "      <td>0.06170</td>\n",
       "      <td>1.9</td>\n",
       "    </tr>\n",
       "    <tr>\n",
       "      <th>Andorra</th>\n",
       "      <td>200.61</td>\n",
       "      <td>0.19475</td>\n",
       "      <td>2.5</td>\n",
       "    </tr>\n",
       "    <tr>\n",
       "      <th>Angola</th>\n",
       "      <td>5.83</td>\n",
       "      <td>0.02300</td>\n",
       "      <td>0.8</td>\n",
       "    </tr>\n",
       "  </tbody>\n",
       "</table>\n",
       "</div>"
      ],
      "text/plain": [
       "             DEATHS/100K POP.  PERSONS OVER AGE 65 IN POP.  \\\n",
       "COUNTRY                                                      \n",
       "Afghanistan             20.04                      0.02680   \n",
       "Albania                124.71                      0.13030   \n",
       "Algeria                 15.69                      0.06170   \n",
       "Andorra                200.61                      0.19475   \n",
       "Angola                   5.83                      0.02300   \n",
       "\n",
       "             HOSPITAL BEDS/1,000 PEOPLE  \n",
       "COUNTRY                                  \n",
       "Afghanistan                         0.4  \n",
       "Albania                             2.9  \n",
       "Algeria                             1.9  \n",
       "Andorra                             2.5  \n",
       "Angola                              0.8  "
      ]
     },
     "execution_count": 14,
     "metadata": {},
     "output_type": "execute_result"
    }
   ],
   "source": [
    "# Reading source data\n",
    "covid_df = pd.read_excel('covid_testing_data.xlsx').set_index(\"COUNTRY\")\n",
    "\n",
    "# Coverting column of percentages to column of decimals\n",
    "covid_df['PERSONS OVER AGE 65 IN POP.'] = covid_df['PERSONS OVER AGE 65 IN POP.'].str.rstrip('%').astype('float') / 100.0\n",
    "covid_df.head()"
   ]
  },
  {
   "cell_type": "code",
   "execution_count": 9,
   "id": "b0c89c07",
   "metadata": {},
   "outputs": [
    {
     "data": {
      "text/plain": [
       "LinearRegression()"
      ]
     },
     "execution_count": 9,
     "metadata": {},
     "output_type": "execute_result"
    }
   ],
   "source": [
    "# Defining the model\n",
    "linear_regression = LinearRegression()\n",
    "linear_regression"
   ]
  },
  {
   "cell_type": "code",
   "execution_count": 10,
   "id": "1fd31e44",
   "metadata": {},
   "outputs": [],
   "source": [
    "# Defining features to be used\n",
    "X = covid_df[['PERSONS OVER AGE 65 IN POP.', 'HOSPITAL BEDS/1,000 PEOPLE']]\n",
    "y = covid_df['DEATHS/100K POP.']"
   ]
  },
  {
   "cell_type": "code",
   "execution_count": 11,
   "id": "1e74dd70",
   "metadata": {},
   "outputs": [
    {
     "data": {
      "text/plain": [
       "KFold(n_splits=5, random_state=1, shuffle=True)"
      ]
     },
     "execution_count": 11,
     "metadata": {},
     "output_type": "execute_result"
    }
   ],
   "source": [
    "# Defining cross-validation method to be used\n",
    "cv = KFold(n_splits=5, random_state=1, shuffle=True)\n",
    "cv.get_n_splits(X)\n",
    "cv"
   ]
  },
  {
   "cell_type": "code",
   "execution_count": 7,
   "id": "74ac9504",
   "metadata": {},
   "outputs": [],
   "source": [
    "# Function to get R^2 scores\n",
    "def get_score(model, X_train, X_test, y_train, y_test):\n",
    "    model.fit(X_train, y_train)\n",
    "    return model.score(X_test, y_test)"
   ]
  },
  {
   "cell_type": "code",
   "execution_count": 13,
   "id": "a3449a2c",
   "metadata": {},
   "outputs": [
    {
     "name": "stdout",
     "output_type": "stream",
     "text": [
      "5-fold cross validation accuracy scores: ['0.551', '0.184', '0.210', '0.518', '0.102']\n",
      "Cross validation accuracy: 0.313\n"
     ]
    }
   ],
   "source": [
    "# 5-fold cross validation\n",
    "scores = []\n",
    "for train_index, test_index in cv.split(X):\n",
    "    X_train = covid_df.iloc[train_index, 1:3]\n",
    "    X_test = covid_df.iloc[test_index, 1:3]\n",
    "    y_train = covid_df.iloc[train_index, 0:1]\n",
    "    y_test = covid_df.iloc[test_index, 0:1]\n",
    "    scores.append(get_score(linear_regression, X_train, X_test, y_train, y_test))\n",
    "    \n",
    "rounded_scores = [f\"{num:.3f}\" for num in scores]\n",
    "print(\"5-fold cross validation accuracy scores: \" + str(rounded_scores))\n",
    "print(\"Cross validation accuracy: \" + str(round(np.mean(scores), 3)))"
   ]
  },
  {
   "cell_type": "code",
   "execution_count": null,
   "id": "d39842b9",
   "metadata": {},
   "outputs": [],
   "source": []
  }
 ],
 "metadata": {
  "kernelspec": {
   "display_name": "Python 3.9.5 64-bit",
   "language": "python",
   "name": "python3"
  },
  "language_info": {
   "codemirror_mode": {
    "name": "ipython",
    "version": 3
   },
   "file_extension": ".py",
   "mimetype": "text/x-python",
   "name": "python",
   "nbconvert_exporter": "python",
   "pygments_lexer": "ipython3",
   "version": "3.9.5"
  },
  "vscode": {
   "interpreter": {
    "hash": "11938c6bc6919ae2720b4d5011047913343b08a43b18698fd82dedb0d4417594"
   }
  }
 },
 "nbformat": 4,
 "nbformat_minor": 5
}
